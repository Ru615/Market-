{
 "cells": [
  {
   "cell_type": "markdown",
   "id": "9773778c",
   "metadata": {},
   "source": [
    "# 🛒 Market Basket Analysis Project\n",
    "This project demonstrates **Market Basket Analysis** using the **Apriori Algorithm**. It helps identify frequently bought product combinations in transactional data, useful for e-commerce businesses."
   ]
  },
  {
   "cell_type": "markdown",
   "id": "75ac3f07",
   "metadata": {},
   "source": [
    "## 🎯 Objective\n",
    "Find frequently bought product combinations in transactional data using the **Apriori algorithm** via Python’s `mlxtend` library. This can help businesses suggest product bundles or cross-sell opportunities."
   ]
  },
  {
   "cell_type": "code",
   "execution_count": null,
   "id": "88409e4f",
   "metadata": {},
   "outputs": [],
   "source": [
    "!pip install pandas mlxtend matplotlib networkx"
   ]
  },
  {
   "cell_type": "code",
   "execution_count": null,
   "id": "5722c6ee",
   "metadata": {},
   "outputs": [],
   "source": [
    "import pandas as pd\n",
    "from mlxtend.frequent_patterns import apriori, association_rules\n",
    "from mlxtend.preprocessing import TransactionEncoder\n",
    "import matplotlib.pyplot as plt\n",
    "import networkx as nx"
   ]
  },
  {
   "cell_type": "markdown",
   "id": "8c04f56c",
   "metadata": {},
   "source": [
    "## 📂 Step 1: Sample Transaction Dataset"
   ]
  },
  {
   "cell_type": "code",
   "execution_count": null,
   "id": "1d41c6d0",
   "metadata": {},
   "outputs": [],
   "source": [
    "# Sample transaction dataset\n",
    "transactions = [\n",
    "    ['Milk','Bread','Butter'],\n",
    "    ['Bread','Eggs'],\n",
    "    ['Milk','Bread'],\n",
    "    ['Milk','Butter'],\n",
    "    ['Bread','Butter','Eggs']\n",
    "]\n",
    "\n",
    "transactions"
   ]
  },
  {
   "cell_type": "markdown",
   "id": "d4222715",
   "metadata": {},
   "source": [
    "## 🛠 Step 2: Data Preprocessing"
   ]
  },
  {
   "cell_type": "code",
   "execution_count": null,
   "id": "e97ef20b",
   "metadata": {},
   "outputs": [],
   "source": [
    "# Convert dataset into one-hot encoded format\n",
    "te = TransactionEncoder()\n",
    "te_data = te.fit(transactions).transform(transactions)\n",
    "df = pd.DataFrame(te_data, columns=te.columns_)\n",
    "df"
   ]
  },
  {
   "cell_type": "markdown",
   "id": "37f65e1d",
   "metadata": {},
   "source": [
    "## 📊 Step 3: Applying Apriori Algorithm"
   ]
  },
  {
   "cell_type": "code",
   "execution_count": null,
   "id": "7f13ee14",
   "metadata": {},
   "outputs": [],
   "source": [
    "# Apply Apriori algorithm\n",
    "frequent_itemsets = apriori(df, min_support=0.3, use_colnames=True)\n",
    "frequent_itemsets"
   ]
  },
  {
   "cell_type": "markdown",
   "id": "ff6f78d7",
   "metadata": {},
   "source": [
    "## 🔗 Step 4: Association Rules"
   ]
  },
  {
   "cell_type": "code",
   "execution_count": null,
   "id": "8263369f",
   "metadata": {},
   "outputs": [],
   "source": [
    "# Generate association rules\n",
    "rules = association_rules(frequent_itemsets, metric=\"lift\", min_threshold=1.0)\n",
    "rules[['antecedents','consequents','support','confidence','lift']]"
   ]
  },
  {
   "cell_type": "markdown",
   "id": "6ed0be89",
   "metadata": {},
   "source": [
    "## 🌐 Step 5: Visualizing with Network Graph"
   ]
  },
  {
   "cell_type": "code",
   "execution_count": null,
   "id": "71019ecf",
   "metadata": {},
   "outputs": [],
   "source": [
    "G = nx.DiGraph()\n",
    "\n",
    "# Add edges with confidence as weight\n",
    "for i,row in rules.iterrows():\n",
    "    G.add_edge(list(row['antecedents'])[0], list(row['consequents'])[0],\n",
    "               weight=row['confidence'])\n",
    "\n",
    "plt.figure(figsize=(8,6))\n",
    "pos = nx.spring_layout(G, k=0.5)\n",
    "nx.draw(G, pos, with_labels=True, node_size=3000, node_color=\"skyblue\", font_size=12, font_weight=\"bold\")\n",
    "labels = nx.get_edge_attributes(G,'weight')\n",
    "nx.draw_networkx_edge_labels(G,pos,edge_labels={(k[0],k[1]):f\"{v:.2f}\" for k,v in labels.items()})\n",
    "plt.title(\"Market Basket Analysis Network Graph\")\n",
    "plt.show()"
   ]
  },
  {
   "cell_type": "markdown",
   "id": "d4b75077",
   "metadata": {},
   "source": [
    "## ✅ Conclusion\n",
    "- Found frequent product combinations using **Apriori algorithm**\n",
    "- Extracted **association rules** (support, confidence, lift)\n",
    "- Visualized results with a **network graph**\n",
    "\n",
    "**Business Impact:**\n",
    "This analysis helps businesses create **personalized marketing strategies**, suggest **product bundles**, and increase **average order value**."
   ]
  }
 ],
 "metadata": {},
 "nbformat": 4,
 "nbformat_minor": 5
}
